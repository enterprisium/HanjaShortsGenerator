{
  "cells": [
    {
      "cell_type": "markdown",
      "metadata": {
        "colab_type": "text",
        "id": "view-in-github"
      },
      "source": [
        "<a href=\"https://colab.research.google.com/github/yurangja99/HanjaShortsGenerator/blob/main/HanjaShortsGenerator_Demo.ipynb\" target=\"_parent\"><img src=\"https://colab.research.google.com/assets/colab-badge.svg\" alt=\"Open In Colab\"/></a>"
      ]
    },
    {
      "cell_type": "markdown",
      "metadata": {
        "id": "7dt38JVjJiKP"
      },
      "source": [
        "# HanjaShortsGenerator Demo\n",
        "\n",
        "Github: https://github.com/yurangja99/HanjaShortsGenerator.git\n",
        "\n",
        "This demo clones [HanjaShortsGenerator](https://github.com/yurangja99/HanjaShortsGenerator.git), and generate a video for given keyword.\n",
        "\n",
        "※ There are some things to do before running each script, please read carefully!"
      ]
    },
    {
      "cell_type": "code",
      "execution_count": 1,
      "metadata": {
        "colab": {
          "base_uri": "https://localhost:8080/",
          "height": 821
        },
        "id": "QupE-IVKJg03",
        "outputId": "0cda3c5f-fc54-4dd7-e04b-5dc8e4106e25"
      },
      "outputs": [
        {
          "data": {
            "image/jpeg": "[encoded data removed]",
            "text/html": [
              "\n",
              "        <iframe\n",
              "            width=\"450\"\n",
              "            height=\"800\"\n",
              "            src=\"https://www.youtube.com/embed/ly9RI1TmMJk\"\n",
              "            frameborder=\"0\"\n",
              "            allowfullscreen\n",
              "            \n",
              "        ></iframe>\n",
              "        "
            ],
            "text/plain": [
              "<IPython.lib.display.YouTubeVideo at 0x790045ebb8b0>"
            ]
          },
          "execution_count": 1,
          "metadata": {},
          "output_type": "execute_result"
        }
      ],
      "source": [
        "from IPython.display import YouTubeVideo\n",
        "\n",
        "# Example video: 어부지리(漁夫之利)\n",
        "YouTubeVideo('ly9RI1TmMJk', 450, 800)"
      ]
    },
    {
      "cell_type": "markdown",
      "metadata": {
        "id": "77iN0NlJK0Jl"
      },
      "source": [
        "## Setup"
      ]
    },
    {
      "cell_type": "code",
      "execution_count": null,
      "metadata": {
        "colab": {
          "base_uri": "https://localhost:8080/"
        },
        "id": "UG4bxRY-K0du",
        "outputId": "5287014b-da1f-4484-ea2d-e68bafcc2c3e"
      },
      "outputs": [],
      "source": [
        "# clone github repository\n",
        "!git clone https://github.com/yurangja99/HanjaShortsGenerator.git"
      ]
    },
    {
      "cell_type": "code",
      "execution_count": null,
      "metadata": {
        "colab": {
          "base_uri": "https://localhost:8080/"
        },
        "id": "zLUm2uzFLCWA",
        "outputId": "9d756cb9-5f20-43d5-e6d6-eab099d69196"
      },
      "outputs": [],
      "source": [
        "# move to the project root\n",
        "%cd /content/HanjaShortsGenerator"
      ]
    },
    {
      "cell_type": "code",
      "execution_count": null,
      "metadata": {
        "colab": {
          "base_uri": "https://localhost:8080/"
        },
        "id": "6ZFl2NfwRDiE",
        "outputId": "e465334c-525a-401a-e783-a66b454b6ab2"
      },
      "outputs": [],
      "source": [
        "# install requirements\n",
        "!pip install --upgrade --quiet torch\n",
        "!pip install --upgrade --quiet accelerate\n",
        "!pip install --upgrade --quiet selenium\n",
        "!pip install --upgrade --quiet openai\n",
        "!pip install --upgrade --quiet google\n",
        "!pip install --upgrade --quiet google-cloud-texttospeech\n",
        "!pip install --upgrade --quiet mutagen\n",
        "!pip install --upgrade --quiet Pillow\n",
        "!pip install --upgrade --quiet diffusers\n",
        "!pip install --upgrade --quiet transformers\n",
        "!pip install --upgrade --quiet moviepy"
      ]
    },
    {
      "cell_type": "markdown",
      "metadata": {
        "id": "aoRSL1RdL5T2"
      },
      "source": [
        "## Setting Inputs\n",
        "\n",
        "Before running cells below,\n",
        "- log in to openai, and get API key\n",
        "- log in to Pixabay, and get API key\n",
        "- log in to Pexels, and get API key\n",
        "- upload your google cloud platform json file.\n",
        "- upload your korean ttf font file.\n",
        "\n",
        "Each arguments are:\n",
        "- keyword: keyword of the video (고사성어)\n",
        "- param: defaults to \"--all\". can be one or more of [--all, --crawler, --author, --tts, --imager, --imager-parser, --imager-constructor, --imager-story, --imager-generator, --editor]\n",
        "- width: width of the video\n",
        "- height: height of the video"
      ]
    },
    {
      "cell_type": "code",
      "execution_count": 15,
      "metadata": {
        "id": "p1XSQWxmM7gn"
      },
      "outputs": [],
      "source": [
        "# @title Setting API Keys\n",
        "openai_api_key = \"key\" # @param {type:\"string\"}\n",
        "pixabay_api_key = \"key\" # @param {type:\"string\"}\n",
        "pexels_api_key = \"key\" # @param {type:\"string\"}\n",
        "google_json_path = \"gcp.json\" # @param {type:\"string\"}\n",
        "font_file_path = \"font.ttf\" # @param {type:\"string\"}\n",
        "\n",
        "import os\n",
        "os.environ[\"GOOGLE_APPLICATION_CREDENTIALS\"] = google_json_path\n",
        "\n",
        "with open(\"keys.py\", \"w\") as f:\n",
        "  f.write(\"\\n\".join([\n",
        "    f\"openai_api_key = \\\"{openai_api_key}\\\"\",\n",
        "    f\"pixabay_api_key = \\\"{pixabay_api_key}\\\"\",\n",
        "    f\"pexels_api_key = \\\"{pexels_api_key}\\\"\"\n",
        "  ]))"
      ]
    },
    {
      "cell_type": "code",
      "execution_count": 13,
      "metadata": {
        "id": "Gyd65yTtOAkH"
      },
      "outputs": [],
      "source": [
        "# @title Setting Arguments\n",
        "# @markdown param: one or more of [--all, --crawler, --author, --tts, --imager, --imager-parser, --imager-constructor, --imager-story, --imager-generator, --editor]\n",
        "keyword = \"\" # @param {type:\"string\"}\n",
        "param = \"--all\" # @param {type:\"string\"}\n",
        "width = 1080 # @param {type:\"slider\", min:240, max:1080, step:10}\n",
        "height = 1920 # @param {type:\"slider\", min:320, max:1920, step:10}"
      ]
    },
    {
      "cell_type": "markdown",
      "metadata": {
        "id": "JmMvJw5YMAa5"
      },
      "source": [
        "## Generate Video"
      ]
    },
    {
      "cell_type": "code",
      "execution_count": null,
      "metadata": {
        "colab": {
          "base_uri": "https://localhost:8080/"
        },
        "id": "ETHa8wCGMCMY",
        "outputId": "f0f731fa-4da4-4f9e-b801-65b81e1a12a3"
      },
      "outputs": [],
      "source": [
        "# generate video with given inputs\n",
        "!python main.py \"$keyword\" $param \\\n",
        "  --width $width \\\n",
        "  --height $height \\\n",
        "  --font $font_file_path"
      ]
    },
    {
      "cell_type": "code",
      "execution_count": null,
      "metadata": {},
      "outputs": [],
      "source": [
        "from google.colab import files\n",
        "\n",
        "# download result directory\n",
        "zipname = f\"{keyword}.zip\"\n",
        "dirname = os.path.join(\"video_outputs\", keyword)\n",
        "!zip -r $zipname $dirname\n",
        "files.download(zipname)"
      ]
    },
    {
      "cell_type": "markdown",
      "metadata": {
        "id": "SWhbbHgPMH_c"
      },
      "source": [
        "## (Optional) Regenerate Image\n",
        "\n",
        "If your generated image is not the one you wanted, you can regenerate an image with your own prompt and init image.\n",
        "\n",
        "Set your own inputs, and run `regenerate.py`.\n",
        "\n",
        "Example: scene of one seashell bite a stork's beak, at a river\n",
        "\n",
        "|Input Image|Regenerated Image|\n",
        "|-|-|\n",
        "|![](https://github.com/yurangja99/HanjaShortsGenerator/raw/main/assets/regenerate0-0.png)|![](https://github.com/yurangja99/HanjaShortsGenerator/raw/main/assets/regenerate0-1.png)|"
      ]
    },
    {
      "cell_type": "code",
      "execution_count": 19,
      "metadata": {
        "id": "gOkchRoaMfcY"
      },
      "outputs": [],
      "source": [
        "# @title Setting Regeneration Config\n",
        "prompt = \"prompt\" # @param {type:\"string\"}\n",
        "init_image = \"init_image.png\" # @param {type:\"string\"}\n",
        "strength = 0.8 # @param {type:\"slider\", min:0, max:1, step:0.1}\n",
        "num_output_imgs = 2 # @param {type:\"slider\", min:1, max:4, step:1}\n"
      ]
    },
    {
      "cell_type": "code",
      "execution_count": null,
      "metadata": {
        "colab": {
          "base_uri": "https://localhost:8080/"
        },
        "id": "FDRat9Q-Mfmc",
        "outputId": "e385423e-f36b-42b4-9004-a4793ed4bd5a"
      },
      "outputs": [],
      "source": [
        "# regenerate image\n",
        "!python regenerate.py \"$init_image\" \"$prompt\" \\\n",
        "  --strength $strength \\\n",
        "  --num-imgs $num_output_imgs"
      ]
    }
  ],
  "metadata": {
    "accelerator": "GPU",
    "colab": {
      "authorship_tag": "ABX9TyNVPrrxY60xxhtvmvn1Uw0r",
      "gpuType": "T4",
      "include_colab_link": true,
      "provenance": []
    },
    "kernelspec": {
      "display_name": "Python 3",
      "name": "python3"
    },
    "language_info": {
      "name": "python"
    }
  },
  "nbformat": 4,
  "nbformat_minor": 0
}
